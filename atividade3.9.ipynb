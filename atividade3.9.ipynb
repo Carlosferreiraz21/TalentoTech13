{
 "cells": [
  {
   "cell_type": "code",
   "execution_count": 2,
   "metadata": {},
   "outputs": [
    {
     "name": "stdout",
     "output_type": "stream",
     "text": [
      "\n",
      "📌 **Tabela Completa dos Funcionários:**\n",
      "      Nome Departamento  Idade  Salário  Salário Anual\n",
      "0      Ana           TI     25     4000          48000\n",
      "1    Bruno           RH     32     4500          54000\n",
      "2    Carla           TI     28     5000          60000\n",
      "3   Daniel   Financeiro     40     6000          72000\n",
      "4  Eduarda           RH     35     5200          62400\n",
      "5    Fábio           TI     30     4800          57600\n",
      "\n",
      "📌 **Funcionários com idade > 30:**\n",
      "      Nome Departamento  Idade  Salário  Salário Anual\n",
      "1    Bruno           RH     32     4500          54000\n",
      "3   Daniel   Financeiro     40     6000          72000\n",
      "4  Eduarda           RH     35     5200          62400\n",
      "\n",
      "📊 **Estatísticas dos Salários:**\n",
      "Média Salarial: R$ 4916.67\n",
      "Maior Salário: R$ 6000.00\n",
      "Menor Salário: R$ 4000.00\n"
     ]
    }
   ],
   "source": [
    "import pandas as pd\n",
    "\n",
    "# Criando um dicionário com os dados dos funcionários\n",
    "dados_funcionarios = {\n",
    "    \"Nome\": [\"Ana\", \"Bruno\", \"Carla\", \"Daniel\", \"Eduarda\", \"Fábio\"],\n",
    "    \"Departamento\": [\"TI\", \"RH\", \"TI\", \"Financeiro\", \"RH\", \"TI\"],\n",
    "    \"Idade\": [25, 32, 28, 40, 35, 30],\n",
    "    \"Salário\": [4000, 4500, 5000, 6000, 5200, 4800]\n",
    "}\n",
    "\n",
    "# Criando o DataFrame\n",
    "df = pd.DataFrame(dados_funcionarios)\n",
    "\n",
    "# Adicionando a coluna \"Salário Anual\" (multiplicando por 12)\n",
    "df[\"Salário Anual\"] = df[\"Salário\"] * 12\n",
    "\n",
    "# Criando um novo DataFrame com funcionários com idade maior que 30\n",
    "df_filtrado = df[df[\"Idade\"] > 30]\n",
    "\n",
    "# Reordenando as colunas\n",
    "df = df[[\"Nome\", \"Departamento\", \"Idade\", \"Salário\", \"Salário Anual\"]]\n",
    "\n",
    "# Exibindo os DataFrames\n",
    "print(\"\\n📌 **Tabela Completa dos Funcionários:**\")\n",
    "print(df)\n",
    "\n",
    "print(\"\\n📌 **Funcionários com idade > 30:**\")\n",
    "print(df_filtrado)\n",
    "\n",
    "# Obtendo estatísticas dos salários\n",
    "media_salario = df[\"Salário\"].mean()\n",
    "maior_salario = df[\"Salário\"].max()\n",
    "menor_salario = df[\"Salário\"].min()\n",
    "\n",
    "# Exibindo estatísticas\n",
    "print(\"\\n📊 **Estatísticas dos Salários:**\")\n",
    "print(f\"Média Salarial: R$ {media_salario:.2f}\")\n",
    "print(f\"Maior Salário: R$ {maior_salario:.2f}\")\n",
    "print(f\"Menor Salário: R$ {menor_salario:.2f}\")\n",
    "\n"
   ]
  }
 ],
 "metadata": {
  "kernelspec": {
   "display_name": "Python 3",
   "language": "python",
   "name": "python3"
  },
  "language_info": {
   "codemirror_mode": {
    "name": "ipython",
    "version": 3
   },
   "file_extension": ".py",
   "mimetype": "text/x-python",
   "name": "python",
   "nbconvert_exporter": "python",
   "pygments_lexer": "ipython3",
   "version": "3.12.9"
  }
 },
 "nbformat": 4,
 "nbformat_minor": 2
}
