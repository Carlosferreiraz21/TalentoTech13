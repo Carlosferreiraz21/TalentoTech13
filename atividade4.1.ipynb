{
 "cells": [
  {
   "cell_type": "code",
   "execution_count": 1,
   "metadata": {},
   "outputs": [],
   "source": [
    "import numpy as np\n",
    "import pandas as pd\n",
    "from sklearn.pipeline import Pipeline\n",
    "from sklearn.compose import ColumnTransformer\n",
    "from sklearn.preprocessing import OneHotEncoder, StandardScaler\n",
    "from sklearn.linear_model import LinearRegression\n",
    "from sklearn.metrics import mean_squared_error\n"
   ]
  },
  {
   "cell_type": "code",
   "execution_count": 2,
   "metadata": {},
   "outputs": [],
   "source": [
    "# Criando um conjunto de dados fictício\n",
    "dados = pd.DataFrame({\n",
    "    'Combustível': ['Gasolina', 'Diesel', 'Etanol', 'Gasolina', 'Diesel'],\n",
    "    'Idade': [3, 5, 2, 8, 1],  # Idade do carro em anos\n",
    "    'Quilometragem': [40000, 80000, 25000, 120000, 10000],  # Km rodados\n",
    "    'Preço': [35000, 28000, 45000, 18000, 50000]  # Valor do carro\n",
    "})\n"
   ]
  },
  {
   "cell_type": "code",
   "execution_count": 3,
   "metadata": {},
   "outputs": [],
   "source": [
    "# Definição das colunas\n",
    "categorical_features = ['Combustível']\n",
    "numerical_features = ['Idade', 'Quilometragem']\n",
    "\n",
    "# Transformadores\n",
    "categorical_transformer = OneHotEncoder(handle_unknown='ignore')\n",
    "numerical_transformer = StandardScaler()\n",
    "\n",
    "# ColumnTransformer para aplicar as transformações adequadas\n",
    "preprocessor = ColumnTransformer(\n",
    "    transformers=[\n",
    "        ('num', numerical_transformer, numerical_features),\n",
    "        ('cat', categorical_transformer, categorical_features)\n",
    "    ]\n",
    ")\n"
   ]
  },
  {
   "cell_type": "code",
   "execution_count": 4,
   "metadata": {},
   "outputs": [],
   "source": [
    "# Criando o pipeline\n",
    "pipeline = Pipeline(steps=[\n",
    "    ('preprocessor', preprocessor),\n",
    "    ('model', LinearRegression())\n",
    "])\n"
   ]
  },
  {
   "cell_type": "code",
   "execution_count": 5,
   "metadata": {},
   "outputs": [
    {
     "name": "stdout",
     "output_type": "stream",
     "text": [
      "Erro Quadrático Médio (MSE) no conjunto de teste: 60331722.83\n"
     ]
    }
   ],
   "source": [
    "from sklearn.model_selection import train_test_split\n",
    "\n",
    "# Separando variáveis preditoras (X) e alvo (y)\n",
    "X = dados.drop(columns=['Preço'])\n",
    "y = dados['Preço']\n",
    "\n",
    "# **🚀 Passo 1: Dividindo os dados em treino (80%) e teste (20%)**\n",
    "X_train, X_test, y_train, y_test = train_test_split(X, y, test_size=0.2, random_state=42)\n",
    "\n",
    "# **🚀 Passo 2: Treinando o modelo APENAS no conjunto de treino**\n",
    "pipeline.fit(X_train, y_train)\n",
    "\n",
    "# **🚀 Passo 3: Fazendo previsões no conjunto de teste**\n",
    "y_pred = pipeline.predict(X_test)\n",
    "\n",
    "# **🚀 Passo 4: Calculando o Erro Quadrático Médio (MSE)**\n",
    "mse = mean_squared_error(y_test, y_pred)\n",
    "print(f'Erro Quadrático Médio (MSE) no conjunto de teste: {mse:.2f}')\n",
    "\n"
   ]
  },
  {
   "cell_type": "code",
   "execution_count": 6,
   "metadata": {},
   "outputs": [
    {
     "name": "stdout",
     "output_type": "stream",
     "text": [
      "Erro Quadrático Médio (MSE) no conjunto de teste: 60331722.83\n"
     ]
    }
   ],
   "source": [
    "# Calculando o Erro Quadrático Médio\n",
    "mse = mean_squared_error(y_test, y_pred)\n",
    "print(f'Erro Quadrático Médio (MSE) no conjunto de teste: {mse:.2f}')\n"
   ]
  }
 ],
 "metadata": {
  "kernelspec": {
   "display_name": "Python 3",
   "language": "python",
   "name": "python3"
  },
  "language_info": {
   "codemirror_mode": {
    "name": "ipython",
    "version": 3
   },
   "file_extension": ".py",
   "mimetype": "text/x-python",
   "name": "python",
   "nbconvert_exporter": "python",
   "pygments_lexer": "ipython3",
   "version": "3.12.9"
  }
 },
 "nbformat": 4,
 "nbformat_minor": 2
}
