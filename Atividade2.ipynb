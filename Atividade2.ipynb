{
 "cells": [
  {
   "cell_type": "code",
   "execution_count": 4,
   "metadata": {},
   "outputs": [
    {
     "name": "stdout",
     "output_type": "stream",
     "text": [
      "         Data          Cidade  Temperatura Máxima (°C)  \\\n",
      "0  15/01/2025       São Paulo                     30.5   \n",
      "1  15/01/2025  Rio de Janeiro                     35.0   \n",
      "2  15/01/2025        Curitiba                     24.0   \n",
      "3  15/01/2025    Porto Alegre                     28.0   \n",
      "4  15/01/2025        Salvador                     31.0   \n",
      "\n",
      "   Temperatura Mínima (°C)  Precipitação (mm)  Umidade Relativa (%)  \n",
      "0                     22.0               12.0                  78.0  \n",
      "1                     25.0                NaN                  70.0  \n",
      "2                     18.0                8.0                   NaN  \n",
      "3                     20.0               15.0                  82.0  \n",
      "4                     24.5                NaN                  80.0  \n"
     ]
    }
   ],
   "source": [
    "import pandas as pd\n",
    "\n",
    "# Criando o DataFrame com os dados fornecidos\n",
    "dados = {\n",
    "    \"Data\": [\"15/01/2025\"] * 5,\n",
    "    \"Cidade\": [\"São Paulo\", \"Rio de Janeiro\", \"Curitiba\", \"Porto Alegre\", \"Salvador\"],\n",
    "    \"Temperatura Máxima (°C)\": [30.5, 35.0, 24.0, 28.0, 31.0],\n",
    "    \"Temperatura Mínima (°C)\": [22.0, 25.0, 18.0, 20.0, 24.5],\n",
    "    \"Precipitação (mm)\": [12.0, None, 8.0, 15.0, None],\n",
    "    \"Umidade Relativa (%)\": [78, 70, None, 82, 80]\n",
    "}\n",
    "\n",
    "df = pd.DataFrame(dados)\n",
    "\n",
    "# Exibir o DataFrame\n",
    "print(df)\n"
   ]
  },
  {
   "cell_type": "code",
   "execution_count": 5,
   "metadata": {},
   "outputs": [
    {
     "name": "stdout",
     "output_type": "stream",
     "text": [
      "\n",
      "DataFrame após substituição de valores ausentes:\n",
      "         Data          Cidade  Temperatura Máxima (°C)  \\\n",
      "0  15/01/2025       São Paulo                     30.5   \n",
      "1  15/01/2025  Rio de Janeiro                     35.0   \n",
      "2  15/01/2025        Curitiba                     24.0   \n",
      "3  15/01/2025    Porto Alegre                     28.0   \n",
      "4  15/01/2025        Salvador                     31.0   \n",
      "\n",
      "   Temperatura Mínima (°C)  Precipitação (mm)  Umidade Relativa (%)  \n",
      "0                     22.0          12.000000                  78.0  \n",
      "1                     25.0          11.666667                  70.0  \n",
      "2                     18.0           8.000000                  79.0  \n",
      "3                     20.0          15.000000                  82.0  \n",
      "4                     24.5          11.666667                  80.0  \n"
     ]
    }
   ],
   "source": [
    "# Substituir valores ausentes na coluna \"Precipitação (mm)\" pela média\n",
    "df[\"Precipitação (mm)\"] = df[\"Precipitação (mm)\"].fillna(df[\"Precipitação (mm)\"].mean())\n",
    "\n",
    "# Substituir valores ausentes na coluna \"Umidade Relativa (%)\" pela mediana\n",
    "df[\"Umidade Relativa (%)\"] = df[\"Umidade Relativa (%)\"].fillna(df[\"Umidade Relativa (%)\"].median())\n",
    "\n",
    "# Exibir o DataFrame atualizado\n",
    "print(\"\\nDataFrame após substituição de valores ausentes:\")\n",
    "print(df)\n"
   ]
  },
  {
   "cell_type": "code",
   "execution_count": 6,
   "metadata": {},
   "outputs": [
    {
     "name": "stdout",
     "output_type": "stream",
     "text": [
      "\n",
      "DataFrame com a coluna Amplitude Térmica:\n",
      "         Data          Cidade  Temperatura Máxima (°C)  \\\n",
      "0  15/01/2025       São Paulo                     30.5   \n",
      "1  15/01/2025  Rio de Janeiro                     35.0   \n",
      "2  15/01/2025        Curitiba                     24.0   \n",
      "3  15/01/2025    Porto Alegre                     28.0   \n",
      "4  15/01/2025        Salvador                     31.0   \n",
      "\n",
      "   Temperatura Mínima (°C)  Precipitação (mm)  Umidade Relativa (%)  \\\n",
      "0                     22.0          12.000000                  78.0   \n",
      "1                     25.0          11.666667                  70.0   \n",
      "2                     18.0           8.000000                  79.0   \n",
      "3                     20.0          15.000000                  82.0   \n",
      "4                     24.5          11.666667                  80.0   \n",
      "\n",
      "   Amplitude Térmica  \n",
      "0                8.5  \n",
      "1               10.0  \n",
      "2                6.0  \n",
      "3                8.0  \n",
      "4                6.5  \n"
     ]
    }
   ],
   "source": [
    "# Criando a coluna \"Amplitude Térmica\"\n",
    "df[\"Amplitude Térmica\"] = df[\"Temperatura Máxima (°C)\"] - df[\"Temperatura Mínima (°C)\"]\n",
    "\n",
    "# Exibir o DataFrame atualizado\n",
    "print(\"\\nDataFrame com a coluna Amplitude Térmica:\")\n",
    "print(df)\n"
   ]
  },
  {
   "cell_type": "code",
   "execution_count": 7,
   "metadata": {},
   "outputs": [
    {
     "name": "stdout",
     "output_type": "stream",
     "text": [
      "\n",
      "Cidades com temperatura máxima acima de 30°C:\n",
      "         Data          Cidade  Temperatura Máxima (°C)  \\\n",
      "0  15/01/2025       São Paulo                     30.5   \n",
      "1  15/01/2025  Rio de Janeiro                     35.0   \n",
      "4  15/01/2025        Salvador                     31.0   \n",
      "\n",
      "   Temperatura Mínima (°C)  Precipitação (mm)  Umidade Relativa (%)  \\\n",
      "0                     22.0          12.000000                  78.0   \n",
      "1                     25.0          11.666667                  70.0   \n",
      "4                     24.5          11.666667                  80.0   \n",
      "\n",
      "   Amplitude Térmica  \n",
      "0                8.5  \n",
      "1               10.0  \n",
      "4                6.5  \n"
     ]
    }
   ],
   "source": [
    "# Criando um novo DataFrame com cidades onde a temperatura máxima é maior que 30°C\n",
    "df_temp_alta = df[df[\"Temperatura Máxima (°C)\"] > 30]\n",
    "\n",
    "# Exibir o novo DataFrame\n",
    "print(\"\\nCidades com temperatura máxima acima de 30°C:\")\n",
    "print(df_temp_alta)\n"
   ]
  },
  {
   "cell_type": "code",
   "execution_count": 8,
   "metadata": {},
   "outputs": [
    {
     "name": "stdout",
     "output_type": "stream",
     "text": [
      "\n",
      "DataFrame final com colunas reordenadas:\n",
      "         Data          Cidade  Temperatura Máxima (°C)  \\\n",
      "0  15/01/2025       São Paulo                     30.5   \n",
      "1  15/01/2025  Rio de Janeiro                     35.0   \n",
      "2  15/01/2025        Curitiba                     24.0   \n",
      "3  15/01/2025    Porto Alegre                     28.0   \n",
      "4  15/01/2025        Salvador                     31.0   \n",
      "\n",
      "   Temperatura Mínima (°C)  Amplitude Térmica  Precipitação (mm)  \\\n",
      "0                     22.0                8.5          12.000000   \n",
      "1                     25.0               10.0          11.666667   \n",
      "2                     18.0                6.0           8.000000   \n",
      "3                     20.0                8.0          15.000000   \n",
      "4                     24.5                6.5          11.666667   \n",
      "\n",
      "   Umidade Relativa (%)  \n",
      "0                  78.0  \n",
      "1                  70.0  \n",
      "2                  79.0  \n",
      "3                  82.0  \n",
      "4                  80.0  \n"
     ]
    }
   ],
   "source": [
    "# Reordenando as colunas do DataFrame\n",
    "df = df[[\"Data\", \"Cidade\", \"Temperatura Máxima (°C)\", \"Temperatura Mínima (°C)\",\n",
    "         \"Amplitude Térmica\", \"Precipitação (mm)\", \"Umidade Relativa (%)\"]]\n",
    "\n",
    "# Exibir o DataFrame final\n",
    "print(\"\\nDataFrame final com colunas reordenadas:\")\n",
    "print(df)\n"
   ]
  }
 ],
 "metadata": {
  "kernelspec": {
   "display_name": "Python 3",
   "language": "python",
   "name": "python3"
  },
  "language_info": {
   "codemirror_mode": {
    "name": "ipython",
    "version": 3
   },
   "file_extension": ".py",
   "mimetype": "text/x-python",
   "name": "python",
   "nbconvert_exporter": "python",
   "pygments_lexer": "ipython3",
   "version": "3.12.9"
  }
 },
 "nbformat": 4,
 "nbformat_minor": 2
}
