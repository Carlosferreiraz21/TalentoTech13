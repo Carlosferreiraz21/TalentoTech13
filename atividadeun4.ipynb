{
 "cells": [
  {
   "cell_type": "code",
   "execution_count": 7,
   "metadata": {},
   "outputs": [
    {
     "name": "stdout",
     "output_type": "stream",
     "text": [
      "Erro Quadrático Médio (MSE): 16338179.65\n",
      "🔮 Previsão do preço para o novo carro: R$ 35790.24\n"
     ]
    }
   ],
   "source": [
    "import numpy as np\n",
    "import pandas as pd\n",
    "from sklearn.pipeline import Pipeline\n",
    "from sklearn.compose import ColumnTransformer\n",
    "from sklearn.preprocessing import OneHotEncoder, StandardScaler\n",
    "from sklearn.linear_model import LinearRegression\n",
    "from sklearn.model_selection import train_test_split\n",
    "from sklearn.metrics import mean_squared_error\n",
    "\n",
    "# 📌 1️⃣ Criando os dados fictícios\n",
    "dados = pd.DataFrame({\n",
    "    'Combustível': ['Gasolina', 'Diesel', 'Etanol', 'Gasolina', 'Diesel', 'Etanol', 'Gasolina', 'Diesel'],\n",
    "    'Idade': [3, 5, 2, 8, 1, 4, 6, 7],\n",
    "    'Quilometragem': [40000, 80000, 25000, 120000, 10000, 50000, 70000, 110000],\n",
    "    'Preço': [35000, 28000, 45000, 18000, 50000, 32000, 26000, 20000]\n",
    "})\n",
    "\n",
    "# 📌 2️⃣ Definição das colunas categóricas e numéricas\n",
    "categorical_features = ['Combustível']\n",
    "numerical_features = ['Idade', 'Quilometragem']\n",
    "\n",
    "# 📌 3️⃣ Criando os transformadores\n",
    "categorical_transformer = OneHotEncoder(handle_unknown='ignore')\n",
    "numerical_transformer = StandardScaler()\n",
    "\n",
    "# 📌 4️⃣ Criando o ColumnTransformer para processar os dados\n",
    "preprocessor = ColumnTransformer(\n",
    "    transformers=[\n",
    "        ('num', numerical_transformer, numerical_features),\n",
    "        ('cat', categorical_transformer, categorical_features)\n",
    "    ]\n",
    ")\n",
    "\n",
    "# 📌 5️⃣ Criando o pipeline com regressão linear\n",
    "pipeline = Pipeline(steps=[\n",
    "    ('preprocessor', preprocessor),\n",
    "    ('model', LinearRegression())\n",
    "])\n",
    "\n",
    "# 📌 6️⃣ Separação entre treino e teste\n",
    "X = dados.drop(columns=['Preço'])\n",
    "y = dados['Preço']\n",
    "X_train, X_test, y_train, y_test = train_test_split(X, y, test_size=0.2, random_state=42)\n",
    "\n",
    "# 📌 7️⃣ Treinando o modelo\n",
    "pipeline.fit(X_train, y_train)\n",
    "\n",
    "# 📌 8️⃣ Fazendo previsões no conjunto de teste\n",
    "y_pred = pipeline.predict(X_test)\n",
    "\n",
    "# 📌 9️⃣ Avaliação do modelo\n",
    "mse = mean_squared_error(y_test, y_pred)\n",
    "print(f'Erro Quadrático Médio (MSE): {mse:.2f}')\n",
    "\n",
    "# 📌 🔟 Fazendo a previsão de um novo carro\n",
    "novo_carro = pd.DataFrame({\n",
    "    'Combustível': ['Gasolina'],  # Pode ser 'Gasolina', 'Diesel' ou 'Etanol'\n",
    "    'Idade': [3],  # Idade do carro em anos\n",
    "    'Quilometragem': [50000]  # Quilometragem rodada\n",
    "})\n",
    "\n",
    "previsao_preco = pipeline.predict(novo_carro)\n",
    "\n",
    "print(f'🔮 Previsão do preço para o novo carro: R$ {previsao_preco[0]:.2f}')\n",
    "\n"
   ]
  }
 ],
 "metadata": {
  "kernelspec": {
   "display_name": "Python 3",
   "language": "python",
   "name": "python3"
  },
  "language_info": {
   "codemirror_mode": {
    "name": "ipython",
    "version": 3
   },
   "file_extension": ".py",
   "mimetype": "text/x-python",
   "name": "python",
   "nbconvert_exporter": "python",
   "pygments_lexer": "ipython3",
   "version": "3.12.9"
  }
 },
 "nbformat": 4,
 "nbformat_minor": 2
}
