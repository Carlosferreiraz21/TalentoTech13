{
 "cells": [
  {
   "cell_type": "code",
   "execution_count": 6,
   "metadata": {},
   "outputs": [
    {
     "name": "stdout",
     "output_type": "stream",
     "text": [
      "\n",
      "Tabela de cálculos para regressão linear:\n",
      "    x   y  (x - média_x)  (y - média_y)  (x - média_x) * (y - média_y)  \\\n",
      "0   1   2           -4.5           -6.4                           28.8   \n",
      "1   2   3           -3.5           -5.4                           18.9   \n",
      "2   3   5           -2.5           -3.4                            8.5   \n",
      "3   4   6           -1.5           -2.4                            3.6   \n",
      "4   5   8           -0.5           -0.4                            0.2   \n",
      "5   6   9            0.5            0.6                            0.3   \n",
      "6   7  10            1.5            1.6                            2.4   \n",
      "7   8  12            2.5            3.6                            9.0   \n",
      "8   9  14            3.5            5.6                           19.6   \n",
      "9  10  15            4.5            6.6                           29.7   \n",
      "\n",
      "   (x - média_x)²  \n",
      "0           20.25  \n",
      "1           12.25  \n",
      "2            6.25  \n",
      "3            2.25  \n",
      "4            0.25  \n",
      "5            0.25  \n",
      "6            2.25  \n",
      "7            6.25  \n",
      "8           12.25  \n",
      "9           20.25  \n",
      "\n",
      "Equação da reta de regressão:\n",
      "y = 0.33 + 1.47x\n"
     ]
    }
   ],
   "source": [
    "import numpy as np\n",
    "import pandas as pd\n",
    "\n",
    "# Criando um conjunto de dados fictício com 10 pares de pontos (x, y)\n",
    "x = np.array([1, 2, 3, 4, 5, 6, 7, 8, 9, 10])\n",
    "y = np.array([2, 3, 5, 6, 8, 9, 10, 12, 14, 15])\n",
    "\n",
    "# Calculando os coeficientes da regressão linear manualmente\n",
    "n = len(x)\n",
    "x_mean = np.mean(x)\n",
    "y_mean = np.mean(y)\n",
    "\n",
    "# Calculando o coeficiente angular (β1)\n",
    "beta_1 = sum((x - x_mean) * (y - y_mean)) / sum((x - x_mean) ** 2)\n",
    "\n",
    "# Calculando o intercepto (β0)\n",
    "beta_0 = y_mean - beta_1 * x_mean\n",
    "\n",
    "# Criando um DataFrame para exibir os dados e os cálculos\n",
    "df = pd.DataFrame({'x': x, 'y': y})\n",
    "df['(x - média_x)'] = x - x_mean\n",
    "df['(y - média_y)'] = y - y_mean\n",
    "df['(x - média_x) * (y - média_y)'] = df['(x - média_x)'] * df['(y - média_y)']\n",
    "df['(x - média_x)²'] = df['(x - média_x)'] ** 2\n",
    "\n",
    "# Exibindo a tabela de cálculos no console\n",
    "print(\"\\nTabela de cálculos para regressão linear:\")\n",
    "print(df)\n",
    "\n",
    "# Exibindo a equação da reta de regressão\n",
    "equation = f\"y = {beta_0:.2f} + {beta_1:.2f}x\"\n",
    "print(\"\\nEquação da reta de regressão:\")\n",
    "print(equation)\n"
   ]
  }
 ],
 "metadata": {
  "kernelspec": {
   "display_name": "Python 3",
   "language": "python",
   "name": "python3"
  },
  "language_info": {
   "codemirror_mode": {
    "name": "ipython",
    "version": 3
   },
   "file_extension": ".py",
   "mimetype": "text/x-python",
   "name": "python",
   "nbconvert_exporter": "python",
   "pygments_lexer": "ipython3",
   "version": "3.12.9"
  }
 },
 "nbformat": 4,
 "nbformat_minor": 2
}
